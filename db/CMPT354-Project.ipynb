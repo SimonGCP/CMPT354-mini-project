{
 "cells": [
  {
   "cell_type": "code",
   "execution_count": 1,
   "id": "7eaee5df-bfd9-423a-b0ca-9e381f265c2b",
   "metadata": {},
   "outputs": [
    {
     "data": {
      "text/html": [
       "<span style=\"None\">Connecting to &#x27;sqlite:///library2.db&#x27;</span>"
      ],
      "text/plain": [
       "Connecting to 'sqlite:///library2.db'"
      ]
     },
     "metadata": {},
     "output_type": "display_data"
    }
   ],
   "source": [
    "import sqlite3\n",
    "\n",
    "%load_ext sql\n",
    "%sql sqlite:///library2.db"
   ]
  },
  {
   "cell_type": "code",
   "execution_count": 2,
   "id": "2b1aad93-404d-483f-a77a-6789537fdebc",
   "metadata": {},
   "outputs": [
    {
     "data": {
      "text/html": [
       "<span style=\"None\">Running query in &#x27;sqlite:///library2.db&#x27;</span>"
      ],
      "text/plain": [
       "Running query in 'sqlite:///library2.db'"
      ]
     },
     "metadata": {},
     "output_type": "display_data"
    },
    {
     "data": {
      "text/html": [
       "<table>\n",
       "    <thead>\n",
       "        <tr>\n",
       "        </tr>\n",
       "    </thead>\n",
       "    <tbody>\n",
       "    </tbody>\n",
       "</table>"
      ],
      "text/plain": [
       "++\n",
       "||\n",
       "++\n",
       "++"
      ]
     },
     "execution_count": 2,
     "metadata": {},
     "output_type": "execute_result"
    }
   ],
   "source": [
    "%%sql\n",
    "\n",
    "PRAGMA foreign_keys = ON;\n",
    "\n",
    "-- LibraryItem Table\n",
    "CREATE TABLE LibraryItem (\n",
    "    itemID INTEGER PRIMARY KEY,\n",
    "    title TEXT NOT NULL,\n",
    "    type TEXT NOT NULL,\n",
    "    publicationDate DATE,\n",
    "    authorFirstName TEXT,\n",
    "    authorLastName TEXT,\n",
    "    isFutureAcq BOOLEAN DEFAULT 0, -- Boolean for future acquisition\n",
    "    expectedAcquisitionDate DATE,\n",
    "    FOREIGN KEY (authorFirstName, authorLastName) REFERENCES Author(firstName, lastName)\n",
    ");\n",
    "\n",
    "-- Author Table\n",
    "CREATE TABLE Author (\n",
    "    firstName TEXT NOT NULL,\n",
    "    lastName TEXT NOT NULL,\n",
    "    PRIMARY KEY (firstName, lastName)\n",
    ");\n",
    "\n",
    "-- Loan Table\n",
    "CREATE TABLE Loan (\n",
    "    loanCard INTEGER,\n",
    "    itemID INTEGER,\n",
    "    loanDateTime DATETIME NOT NULL DEFAULT CURRENT_TIMESTAMP,\n",
    "    dueDate DATE NOT NULL,\n",
    "    returnDate DATE,\n",
    "    renewalCount INTEGER DEFAULT 0,\n",
    "    PRIMARY KEY (loanCard, itemID, loanDateTime),\n",
    "    FOREIGN KEY (loanCard) REFERENCES User(libraryCardNumber) ON DELETE CASCADE,\n",
    "    FOREIGN KEY (itemID) REFERENCES LibraryItem(itemID) ON DELETE CASCADE\n",
    ");\n",
    "\n",
    "-- User Table\n",
    "CREATE TABLE User (\n",
    "    libraryCardNumber INTEGER PRIMARY KEY,\n",
    "    address TEXT NOT NULL,\n",
    "    firstName TEXT NOT NULL,\n",
    "    lastName TEXT NOT NULL,\n",
    "    email TEXT UNIQUE NOT NULL,\n",
    "    phoneNumber TEXT UNIQUE NOT NULL\n",
    ");\n",
    "\n",
    "-- LibraryStaff Table\n",
    "CREATE TABLE LibraryStaff (\n",
    "    staffID INTEGER PRIMARY KEY,\n",
    "    staffCardNumber INTEGER UNIQUE NOT NULL,\n",
    "    hireDate DATE NOT NULL,\n",
    "    salary DECIMAL(10,2) CHECK (salary >= 0),\n",
    "    FOREIGN KEY (staffCardNumber) REFERENCES User(libraryCardNumber) ON DELETE CASCADE\n",
    ");\n",
    "\n",
    "-- Fine Table\n",
    "CREATE TABLE Fine (\n",
    "    fineLibraryCard INTEGER,\n",
    "    dateTimeIssued DATETIME NOT NULL DEFAULT CURRENT_TIMESTAMP,\n",
    "    amount DECIMAL(10,2) CHECK (amount > 0),\n",
    "    paid BOOLEAN DEFAULT 0,\n",
    "    PRIMARY KEY (fineLibraryCard, dateTimeIssued),\n",
    "    FOREIGN KEY (fineLibraryCard) REFERENCES User(libraryCardNumber) ON DELETE CASCADE\n",
    ");\n",
    "\n",
    "-- Event Table\n",
    "CREATE TABLE Event (\n",
    "    title TEXT NOT NULL,\n",
    "    dateTime DATETIME NOT NULL,\n",
    "    roomNum INTEGER,\n",
    "    numAttendees INTEGER DEFAULT 0,\n",
    "    maxAttendees INTEGER CHECK (maxAttendees >= 0),\n",
    "    duration INTEGER CHECK (duration > 0),\n",
    "    registrationEnd DATETIME,\n",
    "    description TEXT,\n",
    "    PRIMARY KEY (title, dateTime),\n",
    "    FOREIGN KEY (roomNum) REFERENCES LibraryRoom(RoomNumber) ON DELETE SET NULL\n",
    ");\n",
    "\n",
    "-- LibraryRoom Table\n",
    "CREATE TABLE LibraryRoom (\n",
    "    RoomNumber INTEGER PRIMARY KEY,\n",
    "    capacity INTEGER CHECK (capacity > 0)\n",
    ");\n",
    "\n",
    "-- EventAttendees Table\n",
    "CREATE TABLE EventAttendees (\n",
    "    libraryCardNumber INTEGER NOT NULL,\n",
    "    eventTitle TEXT NOT NULL,\n",
    "    eventDateTime DATETIME NOT NULL,\n",
    "    PRIMARY KEY (libraryCardNumber, eventTitle, eventDateTime),\n",
    "    FOREIGN KEY (libraryCardNumber) REFERENCES User(libraryCardNumber) ON DELETE CASCADE,\n",
    "    FOREIGN KEY (eventTitle, eventDateTime) REFERENCES Event(title, dateTime) ON DELETE CASCADE\n",
    ");\n",
    "\n"
   ]
  },
  {
   "cell_type": "code",
   "execution_count": 3,
   "id": "c07da3e1-6384-4406-847d-2f6658330702",
   "metadata": {},
   "outputs": [
    {
     "data": {
      "text/html": [
       "<span style=\"None\">Running query in &#x27;sqlite:///library2.db&#x27;</span>"
      ],
      "text/plain": [
       "Running query in 'sqlite:///library2.db'"
      ]
     },
     "metadata": {},
     "output_type": "display_data"
    },
    {
     "data": {
      "text/html": [
       "<span style=\"color: green\">19 rows affected.</span>"
      ],
      "text/plain": [
       "19 rows affected."
      ]
     },
     "metadata": {},
     "output_type": "display_data"
    },
    {
     "data": {
      "text/html": [
       "<table>\n",
       "    <thead>\n",
       "        <tr>\n",
       "            <th>firstName</th>\n",
       "            <th>lastName</th>\n",
       "        </tr>\n",
       "    </thead>\n",
       "    <tbody>\n",
       "        <tr>\n",
       "            <td>John</td>\n",
       "            <td>Smith</td>\n",
       "        </tr>\n",
       "        <tr>\n",
       "            <td>Mary</td>\n",
       "            <td>Johnson</td>\n",
       "        </tr>\n",
       "        <tr>\n",
       "            <td>James</td>\n",
       "            <td>Williams</td>\n",
       "        </tr>\n",
       "        <tr>\n",
       "            <td>Patricia</td>\n",
       "            <td>Brown</td>\n",
       "        </tr>\n",
       "        <tr>\n",
       "            <td>Michael</td>\n",
       "            <td>Jones</td>\n",
       "        </tr>\n",
       "        <tr>\n",
       "            <td>Linda</td>\n",
       "            <td>Garcia</td>\n",
       "        </tr>\n",
       "        <tr>\n",
       "            <td>David</td>\n",
       "            <td>Martinez</td>\n",
       "        </tr>\n",
       "        <tr>\n",
       "            <td>Susan</td>\n",
       "            <td>Hernandez</td>\n",
       "        </tr>\n",
       "        <tr>\n",
       "            <td>Robert</td>\n",
       "            <td>Lopez</td>\n",
       "        </tr>\n",
       "        <tr>\n",
       "            <td>Elizabeth</td>\n",
       "            <td>Gonzalez</td>\n",
       "        </tr>\n",
       "    </tbody>\n",
       "</table>\n",
       "<span style=\"font-style:italic;text-align:center;\">Truncated to <a href=\"https://jupysql.ploomber.io/en/latest/api/configuration.html#displaylimit\">displaylimit</a> of 10.</span>"
      ],
      "text/plain": [
       "+-----------+-----------+\n",
       "| firstName |  lastName |\n",
       "+-----------+-----------+\n",
       "|    John   |   Smith   |\n",
       "|    Mary   |  Johnson  |\n",
       "|   James   |  Williams |\n",
       "|  Patricia |   Brown   |\n",
       "|  Michael  |   Jones   |\n",
       "|   Linda   |   Garcia  |\n",
       "|   David   |  Martinez |\n",
       "|   Susan   | Hernandez |\n",
       "|   Robert  |   Lopez   |\n",
       "| Elizabeth |  Gonzalez |\n",
       "+-----------+-----------+\n",
       "Truncated to displaylimit of 10."
      ]
     },
     "execution_count": 3,
     "metadata": {},
     "output_type": "execute_result"
    }
   ],
   "source": [
    "%%sql\n",
    "INSERT INTO Author (firstName, lastName) VALUES\n",
    "('John', 'Smith'),\n",
    "('Mary', 'Johnson'),\n",
    "('James', 'Williams'),\n",
    "('Patricia', 'Brown'),\n",
    "('Michael', 'Jones'),\n",
    "('Linda', 'Garcia'),\n",
    "('David', 'Martinez'),\n",
    "('Susan', 'Hernandez'),\n",
    "('Robert', 'Lopez'),\n",
    "('Elizabeth', 'Gonzalez'),\n",
    "('Jane', 'Doe'),\n",
    "('Emily', 'Johnson'),\n",
    "('Mark', 'Brown'),\n",
    "('Sophia', 'Davis'),\n",
    "('David', 'Miller'),\n",
    "('Sarah', 'Wilson'),\n",
    "('Michael', 'Taylor'),\n",
    "('Laura', 'Garcia'),\n",
    "('James', 'Martinez');\n",
    "SELECT * FROM Author\n"
   ]
  },
  {
   "cell_type": "code",
   "execution_count": 4,
   "id": "28933669-3b96-40eb-ac33-09e759adbd19",
   "metadata": {},
   "outputs": [
    {
     "data": {
      "text/html": [
       "<span style=\"None\">Running query in &#x27;sqlite:///library2.db&#x27;</span>"
      ],
      "text/plain": [
       "Running query in 'sqlite:///library2.db'"
      ]
     },
     "metadata": {},
     "output_type": "display_data"
    },
    {
     "data": {
      "text/html": [
       "<span style=\"color: green\">20 rows affected.</span>"
      ],
      "text/plain": [
       "20 rows affected."
      ]
     },
     "metadata": {},
     "output_type": "display_data"
    },
    {
     "data": {
      "text/html": [
       "<table>\n",
       "    <thead>\n",
       "        <tr>\n",
       "            <th>itemID</th>\n",
       "            <th>title</th>\n",
       "            <th>type</th>\n",
       "            <th>publicationDate</th>\n",
       "            <th>authorFirstName</th>\n",
       "            <th>authorLastName</th>\n",
       "            <th>isFutureAcq</th>\n",
       "            <th>expectedAcquisitionDate</th>\n",
       "        </tr>\n",
       "    </thead>\n",
       "    <tbody>\n",
       "        <tr>\n",
       "            <td>1</td>\n",
       "            <td>Introduction to Programming</td>\n",
       "            <td>Book</td>\n",
       "            <td>2023-02-15</td>\n",
       "            <td>John</td>\n",
       "            <td>Smith</td>\n",
       "            <td>0</td>\n",
       "            <td>None</td>\n",
       "        </tr>\n",
       "        <tr>\n",
       "            <td>2</td>\n",
       "            <td>Advanced Java Concepts</td>\n",
       "            <td>Book</td>\n",
       "            <td>2022-08-01</td>\n",
       "            <td>Mary</td>\n",
       "            <td>Johnson</td>\n",
       "            <td>0</td>\n",
       "            <td>None</td>\n",
       "        </tr>\n",
       "        <tr>\n",
       "            <td>3</td>\n",
       "            <td>Database Design</td>\n",
       "            <td>Book</td>\n",
       "            <td>2020-12-05</td>\n",
       "            <td>James</td>\n",
       "            <td>Williams</td>\n",
       "            <td>0</td>\n",
       "            <td>None</td>\n",
       "        </tr>\n",
       "        <tr>\n",
       "            <td>4</td>\n",
       "            <td>Machine Learning 101</td>\n",
       "            <td>Book</td>\n",
       "            <td>2021-06-20</td>\n",
       "            <td>Patricia</td>\n",
       "            <td>Brown</td>\n",
       "            <td>0</td>\n",
       "            <td>None</td>\n",
       "        </tr>\n",
       "        <tr>\n",
       "            <td>5</td>\n",
       "            <td>React for Beginners</td>\n",
       "            <td>Book</td>\n",
       "            <td>2023-01-01</td>\n",
       "            <td>Michael</td>\n",
       "            <td>Jones</td>\n",
       "            <td>0</td>\n",
       "            <td>None</td>\n",
       "        </tr>\n",
       "        <tr>\n",
       "            <td>6</td>\n",
       "            <td>Web Development Best Practices</td>\n",
       "            <td>Book</td>\n",
       "            <td>2022-04-12</td>\n",
       "            <td>Linda</td>\n",
       "            <td>Garcia</td>\n",
       "            <td>0</td>\n",
       "            <td>None</td>\n",
       "        </tr>\n",
       "        <tr>\n",
       "            <td>7</td>\n",
       "            <td>Data Science Handbook</td>\n",
       "            <td>Book</td>\n",
       "            <td>2021-11-30</td>\n",
       "            <td>David</td>\n",
       "            <td>Martinez</td>\n",
       "            <td>0</td>\n",
       "            <td>None</td>\n",
       "        </tr>\n",
       "        <tr>\n",
       "            <td>8</td>\n",
       "            <td>Python Programming</td>\n",
       "            <td>Book</td>\n",
       "            <td>2023-03-10</td>\n",
       "            <td>Susan</td>\n",
       "            <td>Hernandez</td>\n",
       "            <td>0</td>\n",
       "            <td>None</td>\n",
       "        </tr>\n",
       "        <tr>\n",
       "            <td>9</td>\n",
       "            <td>Digital Transformation</td>\n",
       "            <td>Book</td>\n",
       "            <td>2022-07-17</td>\n",
       "            <td>Robert</td>\n",
       "            <td>Lopez</td>\n",
       "            <td>1</td>\n",
       "            <td>2024-01-01</td>\n",
       "        </tr>\n",
       "        <tr>\n",
       "            <td>10</td>\n",
       "            <td>Cloud Computing</td>\n",
       "            <td>Book</td>\n",
       "            <td>2022-10-10</td>\n",
       "            <td>Elizabeth</td>\n",
       "            <td>Gonzalez</td>\n",
       "            <td>1</td>\n",
       "            <td>2024-05-01</td>\n",
       "        </tr>\n",
       "    </tbody>\n",
       "</table>\n",
       "<span style=\"font-style:italic;text-align:center;\">Truncated to <a href=\"https://jupysql.ploomber.io/en/latest/api/configuration.html#displaylimit\">displaylimit</a> of 10.</span>"
      ],
      "text/plain": [
       "+--------+--------------------------------+------+-----------------+-----------------+----------------+-------------+-------------------------+\n",
       "| itemID |             title              | type | publicationDate | authorFirstName | authorLastName | isFutureAcq | expectedAcquisitionDate |\n",
       "+--------+--------------------------------+------+-----------------+-----------------+----------------+-------------+-------------------------+\n",
       "|   1    |  Introduction to Programming   | Book |    2023-02-15   |       John      |     Smith      |      0      |           None          |\n",
       "|   2    |     Advanced Java Concepts     | Book |    2022-08-01   |       Mary      |    Johnson     |      0      |           None          |\n",
       "|   3    |        Database Design         | Book |    2020-12-05   |      James      |    Williams    |      0      |           None          |\n",
       "|   4    |      Machine Learning 101      | Book |    2021-06-20   |     Patricia    |     Brown      |      0      |           None          |\n",
       "|   5    |      React for Beginners       | Book |    2023-01-01   |     Michael     |     Jones      |      0      |           None          |\n",
       "|   6    | Web Development Best Practices | Book |    2022-04-12   |      Linda      |     Garcia     |      0      |           None          |\n",
       "|   7    |     Data Science Handbook      | Book |    2021-11-30   |      David      |    Martinez    |      0      |           None          |\n",
       "|   8    |       Python Programming       | Book |    2023-03-10   |      Susan      |   Hernandez    |      0      |           None          |\n",
       "|   9    |     Digital Transformation     | Book |    2022-07-17   |      Robert     |     Lopez      |      1      |        2024-01-01       |\n",
       "|   10   |        Cloud Computing         | Book |    2022-10-10   |    Elizabeth    |    Gonzalez    |      1      |        2024-05-01       |\n",
       "+--------+--------------------------------+------+-----------------+-----------------+----------------+-------------+-------------------------+\n",
       "Truncated to displaylimit of 10."
      ]
     },
     "execution_count": 4,
     "metadata": {},
     "output_type": "execute_result"
    }
   ],
   "source": [
    "%%sql\n",
    "INSERT INTO LibraryItem (itemID, title, type, publicationDate, authorFirstName, authorLastName, isFutureAcq, expectedAcquisitionDate) VALUES\n",
    "(1, 'Introduction to Programming', 'Book', '2023-02-15', 'John', 'Smith', 0, NULL),\n",
    "(2, 'Advanced Java Concepts', 'Book', '2022-08-01', 'Mary', 'Johnson', 0, NULL),\n",
    "(3, 'Database Design', 'Book', '2020-12-05', 'James', 'Williams', 0, NULL),\n",
    "(4, 'Machine Learning 101', 'Book', '2021-06-20', 'Patricia', 'Brown', 0, NULL),\n",
    "(5, 'React for Beginners', 'Book', '2023-01-01', 'Michael', 'Jones', 0, NULL),\n",
    "(6, 'Web Development Best Practices', 'Book', '2022-04-12', 'Linda', 'Garcia', 0, NULL),\n",
    "(7, 'Data Science Handbook', 'Book', '2021-11-30', 'David', 'Martinez', 0, NULL),\n",
    "(8, 'Python Programming', 'Book', '2023-03-10', 'Susan', 'Hernandez', 0, NULL),\n",
    "(9, 'Digital Transformation', 'Book', '2022-07-17', 'Robert', 'Lopez', 1, '2024-01-01'),\n",
    "(10, 'Cloud Computing', 'Book', '2022-10-10', 'Elizabeth', 'Gonzalez', 1, '2024-05-01'),\n",
    "(11, 'Advanced Java Concepts', 'Book', '2023-03-01', 'John', 'Smith', 0, NULL),\n",
    "(12, 'Introduction to Machine Learning', 'Book', '2022-06-15', 'Jane', 'Doe', 0, NULL),\n",
    "(13, 'React for Beginners', 'Book', '2023-01-20', 'Emily', 'Johnson', 1, '2023-08-01'),\n",
    "(14, 'Cloud Computing Essentials', 'Book', '2022-09-10', 'Mark', 'Brown', 0, NULL),\n",
    "(15, 'Web Development in 2023', 'Magazine', '2023-03-05', 'Sophia', 'Davis', 0, NULL),\n",
    "(16, 'Python Programming Guide', 'Book', '2023-04-12', 'David', 'Miller', 1, '2023-10-01'),\n",
    "(17, 'Data Science with R', 'Book', '2022-11-25', 'Sarah', 'Wilson', 0, NULL),\n",
    "(18, 'AI and Deep Learning', 'Journal', '2023-02-14', 'Michael', 'Taylor', 0, NULL),\n",
    "(19, 'Digital Transformation for Businesses', 'Book', '2022-12-22', 'James', 'Martinez', 1, '2023-09-01'),\n",
    "(20, 'Innovations in Cloud Security', 'Book', '2023-03-25', 'Laura', 'Garcia', 0, NULL);\n",
    "SELECT * FROM LibraryItem"
   ]
  },
  {
   "cell_type": "code",
   "execution_count": 5,
   "id": "da4b0ef2-fe13-4fae-b1b1-5cf1d35b040a",
   "metadata": {},
   "outputs": [
    {
     "data": {
      "text/html": [
       "<span style=\"None\">Running query in &#x27;sqlite:///library2.db&#x27;</span>"
      ],
      "text/plain": [
       "Running query in 'sqlite:///library2.db'"
      ]
     },
     "metadata": {},
     "output_type": "display_data"
    },
    {
     "data": {
      "text/html": [
       "<span style=\"color: green\">20 rows affected.</span>"
      ],
      "text/plain": [
       "20 rows affected."
      ]
     },
     "metadata": {},
     "output_type": "display_data"
    },
    {
     "data": {
      "text/html": [
       "<table>\n",
       "    <thead>\n",
       "        <tr>\n",
       "            <th>libraryCardNumber</th>\n",
       "            <th>address</th>\n",
       "            <th>firstName</th>\n",
       "            <th>lastName</th>\n",
       "            <th>email</th>\n",
       "            <th>phoneNumber</th>\n",
       "        </tr>\n",
       "    </thead>\n",
       "    <tbody>\n",
       "        <tr>\n",
       "            <td>101</td>\n",
       "            <td>123 Maple St, Vancouver, BC</td>\n",
       "            <td>Alice</td>\n",
       "            <td>Green</td>\n",
       "            <td>alice.green@example.com</td>\n",
       "            <td>123-456-7890</td>\n",
       "        </tr>\n",
       "        <tr>\n",
       "            <td>102</td>\n",
       "            <td>456 Oak Rd, Toronto, ON</td>\n",
       "            <td>Bob</td>\n",
       "            <td>White</td>\n",
       "            <td>bob.white@example.com</td>\n",
       "            <td>234-567-8901</td>\n",
       "        </tr>\n",
       "        <tr>\n",
       "            <td>103</td>\n",
       "            <td>789 Pine Ave, Calgary, AB</td>\n",
       "            <td>Charlie</td>\n",
       "            <td>Black</td>\n",
       "            <td>charlie.black@example.com</td>\n",
       "            <td>345-678-9012</td>\n",
       "        </tr>\n",
       "        <tr>\n",
       "            <td>104</td>\n",
       "            <td>321 Birch Ln, Montreal, QC</td>\n",
       "            <td>David</td>\n",
       "            <td>Blue</td>\n",
       "            <td>david.blue@example.com</td>\n",
       "            <td>456-789-0123</td>\n",
       "        </tr>\n",
       "        <tr>\n",
       "            <td>105</td>\n",
       "            <td>654 Cedar Blvd, Ottawa, ON</td>\n",
       "            <td>Eva</td>\n",
       "            <td>Brown</td>\n",
       "            <td>eva.brown@example.com</td>\n",
       "            <td>567-890-1234</td>\n",
       "        </tr>\n",
       "        <tr>\n",
       "            <td>106</td>\n",
       "            <td>987 Elm St, Edmonton, AB</td>\n",
       "            <td>Frank</td>\n",
       "            <td>Yellow</td>\n",
       "            <td>frank.yellow@example.com</td>\n",
       "            <td>678-901-2345</td>\n",
       "        </tr>\n",
       "        <tr>\n",
       "            <td>107</td>\n",
       "            <td>111 Fir Dr, Calgary, AB</td>\n",
       "            <td>Grace</td>\n",
       "            <td>Red</td>\n",
       "            <td>grace.red@example.com</td>\n",
       "            <td>789-012-3456</td>\n",
       "        </tr>\n",
       "        <tr>\n",
       "            <td>108</td>\n",
       "            <td>222 Maple Ave, Vancouver, BC</td>\n",
       "            <td>Helen</td>\n",
       "            <td>Gray</td>\n",
       "            <td>helen.gray@example.com</td>\n",
       "            <td>890-123-4567</td>\n",
       "        </tr>\n",
       "        <tr>\n",
       "            <td>109</td>\n",
       "            <td>333 Oak Rd, Toronto, ON</td>\n",
       "            <td>Ivan</td>\n",
       "            <td>Blue</td>\n",
       "            <td>ivan.blue@example.com</td>\n",
       "            <td>901-234-5678</td>\n",
       "        </tr>\n",
       "        <tr>\n",
       "            <td>110</td>\n",
       "            <td>444 Pine Ln, Montreal, QC</td>\n",
       "            <td>Jack</td>\n",
       "            <td>Pink</td>\n",
       "            <td>jack.pink@example.com</td>\n",
       "            <td>012-345-6789</td>\n",
       "        </tr>\n",
       "    </tbody>\n",
       "</table>\n",
       "<span style=\"font-style:italic;text-align:center;\">Truncated to <a href=\"https://jupysql.ploomber.io/en/latest/api/configuration.html#displaylimit\">displaylimit</a> of 10.</span>"
      ],
      "text/plain": [
       "+-------------------+------------------------------+-----------+----------+---------------------------+--------------+\n",
       "| libraryCardNumber |           address            | firstName | lastName |           email           | phoneNumber  |\n",
       "+-------------------+------------------------------+-----------+----------+---------------------------+--------------+\n",
       "|        101        | 123 Maple St, Vancouver, BC  |   Alice   |  Green   |  alice.green@example.com  | 123-456-7890 |\n",
       "|        102        |   456 Oak Rd, Toronto, ON    |    Bob    |  White   |   bob.white@example.com   | 234-567-8901 |\n",
       "|        103        |  789 Pine Ave, Calgary, AB   |  Charlie  |  Black   | charlie.black@example.com | 345-678-9012 |\n",
       "|        104        |  321 Birch Ln, Montreal, QC  |   David   |   Blue   |   david.blue@example.com  | 456-789-0123 |\n",
       "|        105        |  654 Cedar Blvd, Ottawa, ON  |    Eva    |  Brown   |   eva.brown@example.com   | 567-890-1234 |\n",
       "|        106        |   987 Elm St, Edmonton, AB   |   Frank   |  Yellow  |  frank.yellow@example.com | 678-901-2345 |\n",
       "|        107        |   111 Fir Dr, Calgary, AB    |   Grace   |   Red    |   grace.red@example.com   | 789-012-3456 |\n",
       "|        108        | 222 Maple Ave, Vancouver, BC |   Helen   |   Gray   |   helen.gray@example.com  | 890-123-4567 |\n",
       "|        109        |   333 Oak Rd, Toronto, ON    |    Ivan   |   Blue   |   ivan.blue@example.com   | 901-234-5678 |\n",
       "|        110        |  444 Pine Ln, Montreal, QC   |    Jack   |   Pink   |   jack.pink@example.com   | 012-345-6789 |\n",
       "+-------------------+------------------------------+-----------+----------+---------------------------+--------------+\n",
       "Truncated to displaylimit of 10."
      ]
     },
     "execution_count": 5,
     "metadata": {},
     "output_type": "execute_result"
    }
   ],
   "source": [
    "%%sql\n",
    "INSERT INTO User (libraryCardNumber, address, firstName, lastName, email, phoneNumber) VALUES\n",
    "(101, '123 Maple St, Vancouver, BC', 'Alice', 'Green', 'alice.green@example.com', '123-456-7890'),\n",
    "(102, '456 Oak Rd, Toronto, ON', 'Bob', 'White', 'bob.white@example.com', '234-567-8901'),\n",
    "(103, '789 Pine Ave, Calgary, AB', 'Charlie', 'Black', 'charlie.black@example.com', '345-678-9012'),\n",
    "(104, '321 Birch Ln, Montreal, QC', 'David', 'Blue', 'david.blue@example.com', '456-789-0123'),\n",
    "(105, '654 Cedar Blvd, Ottawa, ON', 'Eva', 'Brown', 'eva.brown@example.com', '567-890-1234'),\n",
    "(106, '987 Elm St, Edmonton, AB', 'Frank', 'Yellow', 'frank.yellow@example.com', '678-901-2345'),\n",
    "(107, '111 Fir Dr, Calgary, AB', 'Grace', 'Red', 'grace.red@example.com', '789-012-3456'),\n",
    "(108, '222 Maple Ave, Vancouver, BC', 'Helen', 'Gray', 'helen.gray@example.com', '890-123-4567'),\n",
    "(109, '333 Oak Rd, Toronto, ON', 'Ivan', 'Blue', 'ivan.blue@example.com', '901-234-5678'),\n",
    "(110, '444 Pine Ln, Montreal, QC', 'Jack', 'Pink', 'jack.pink@example.com', '012-345-6789'),\n",
    "(201, '123 Maple Street, Toronto, ON', 'Sarah', 'Johnson', 'sarah.johnson@email.com', '416-555-1234'),\n",
    "(202, '456 Oak Avenue, Vancouver, BC', 'James', 'Brown', 'james.brown@email.com', '604-555-5678'),\n",
    "(203, '789 Pine Road, Calgary, AB', 'Emily', 'Davis', 'emily.davis@email.com', '403-555-8765'),\n",
    "(204, '101 Birch Lane, Ottawa, ON', 'Michael', 'Miller', 'michael.miller@email.com', '613-555-4321'),\n",
    "(205, '202 Cedar Drive, Edmonton, AB', 'Jessica', 'Wilson', 'jessica.wilson@email.com', '780-555-9876'),\n",
    "(206, '303 Elm Street, Montreal, QC', 'David', 'Moore', 'david.moore@email.com', '514-555-6543'),\n",
    "(207, '404 Maple Avenue, Winnipeg, MB', 'Laura', 'Taylor', 'laura.taylor@email.com', '204-555-3456'),\n",
    "(208, '505 Birch Road, Calgary, AB', 'Daniel', 'Anderson', 'daniel.anderson@email.com', '403-555-2345'),\n",
    "(209, '606 Oak Lane, Toronto, ON', 'Sophia', 'Thomas', 'sophia.thomas@email.com', '416-555-6789'),\n",
    "(210, '707 Pine Street, Vancouver, BC', 'John', 'Jackson', 'john.jackson@email.com', '604-555-3456');\n",
    "SELECT * FROM User"
   ]
  },
  {
   "cell_type": "code",
   "execution_count": 6,
   "id": "9c95f02c-5ee8-47e6-9fb5-0e0e138b4e9e",
   "metadata": {},
   "outputs": [
    {
     "data": {
      "text/html": [
       "<span style=\"None\">Running query in &#x27;sqlite:///library2.db&#x27;</span>"
      ],
      "text/plain": [
       "Running query in 'sqlite:///library2.db'"
      ]
     },
     "metadata": {},
     "output_type": "display_data"
    },
    {
     "data": {
      "text/html": [
       "<span style=\"color: green\">10 rows affected.</span>"
      ],
      "text/plain": [
       "10 rows affected."
      ]
     },
     "metadata": {},
     "output_type": "display_data"
    },
    {
     "data": {
      "text/html": [
       "<table>\n",
       "    <thead>\n",
       "        <tr>\n",
       "            <th>staffID</th>\n",
       "            <th>staffCardNumber</th>\n",
       "            <th>hireDate</th>\n",
       "            <th>salary</th>\n",
       "        </tr>\n",
       "    </thead>\n",
       "    <tbody>\n",
       "        <tr>\n",
       "            <td>1</td>\n",
       "            <td>101</td>\n",
       "            <td>2021-01-15</td>\n",
       "            <td>55000</td>\n",
       "        </tr>\n",
       "        <tr>\n",
       "            <td>2</td>\n",
       "            <td>102</td>\n",
       "            <td>2020-06-30</td>\n",
       "            <td>60000</td>\n",
       "        </tr>\n",
       "        <tr>\n",
       "            <td>3</td>\n",
       "            <td>103</td>\n",
       "            <td>2022-03-05</td>\n",
       "            <td>52000</td>\n",
       "        </tr>\n",
       "        <tr>\n",
       "            <td>4</td>\n",
       "            <td>104</td>\n",
       "            <td>2021-10-01</td>\n",
       "            <td>58000</td>\n",
       "        </tr>\n",
       "        <tr>\n",
       "            <td>5</td>\n",
       "            <td>105</td>\n",
       "            <td>2023-02-20</td>\n",
       "            <td>63000</td>\n",
       "        </tr>\n",
       "        <tr>\n",
       "            <td>6</td>\n",
       "            <td>106</td>\n",
       "            <td>2022-07-18</td>\n",
       "            <td>54000</td>\n",
       "        </tr>\n",
       "        <tr>\n",
       "            <td>7</td>\n",
       "            <td>107</td>\n",
       "            <td>2020-12-10</td>\n",
       "            <td>59000</td>\n",
       "        </tr>\n",
       "        <tr>\n",
       "            <td>8</td>\n",
       "            <td>108</td>\n",
       "            <td>2023-05-01</td>\n",
       "            <td>62000</td>\n",
       "        </tr>\n",
       "        <tr>\n",
       "            <td>9</td>\n",
       "            <td>109</td>\n",
       "            <td>2021-11-11</td>\n",
       "            <td>57000</td>\n",
       "        </tr>\n",
       "        <tr>\n",
       "            <td>10</td>\n",
       "            <td>110</td>\n",
       "            <td>2022-09-25</td>\n",
       "            <td>55000</td>\n",
       "        </tr>\n",
       "    </tbody>\n",
       "</table>\n",
       "<span style=\"font-style:italic;text-align:center;\">Truncated to <a href=\"https://jupysql.ploomber.io/en/latest/api/configuration.html#displaylimit\">displaylimit</a> of 10.</span>"
      ],
      "text/plain": [
       "+---------+-----------------+------------+--------+\n",
       "| staffID | staffCardNumber |  hireDate  | salary |\n",
       "+---------+-----------------+------------+--------+\n",
       "|    1    |       101       | 2021-01-15 | 55000  |\n",
       "|    2    |       102       | 2020-06-30 | 60000  |\n",
       "|    3    |       103       | 2022-03-05 | 52000  |\n",
       "|    4    |       104       | 2021-10-01 | 58000  |\n",
       "|    5    |       105       | 2023-02-20 | 63000  |\n",
       "|    6    |       106       | 2022-07-18 | 54000  |\n",
       "|    7    |       107       | 2020-12-10 | 59000  |\n",
       "|    8    |       108       | 2023-05-01 | 62000  |\n",
       "|    9    |       109       | 2021-11-11 | 57000  |\n",
       "|    10   |       110       | 2022-09-25 | 55000  |\n",
       "+---------+-----------------+------------+--------+\n",
       "Truncated to displaylimit of 10."
      ]
     },
     "execution_count": 6,
     "metadata": {},
     "output_type": "execute_result"
    }
   ],
   "source": [
    "%%sql\n",
    "INSERT INTO LibraryStaff (staffID, staffCardNumber, hireDate, salary) VALUES\n",
    "(1, 101, '2021-01-15', 55000.00),\n",
    "(2, 102, '2020-06-30', 60000.00),\n",
    "(3, 103, '2022-03-05', 52000.00),\n",
    "(4, 104, '2021-10-01', 58000.00),\n",
    "(5, 105, '2023-02-20', 63000.00),\n",
    "(6, 106, '2022-07-18', 54000.00),\n",
    "(7, 107, '2020-12-10', 59000.00),\n",
    "(8, 108, '2023-05-01', 62000.00),\n",
    "(9, 109, '2021-11-11', 57000.00),\n",
    "(10, 110, '2022-09-25', 55000.00);\n",
    "SELECT * FROM LibraryStaff"
   ]
  },
  {
   "cell_type": "code",
   "execution_count": 7,
   "id": "7ae861e7-4d72-478b-a0df-d85bb9623570",
   "metadata": {},
   "outputs": [
    {
     "data": {
      "text/html": [
       "<span style=\"None\">Running query in &#x27;sqlite:///library2.db&#x27;</span>"
      ],
      "text/plain": [
       "Running query in 'sqlite:///library2.db'"
      ]
     },
     "metadata": {},
     "output_type": "display_data"
    },
    {
     "data": {
      "text/html": [
       "<span style=\"color: green\">10 rows affected.</span>"
      ],
      "text/plain": [
       "10 rows affected."
      ]
     },
     "metadata": {},
     "output_type": "display_data"
    },
    {
     "data": {
      "text/html": [
       "<table>\n",
       "    <thead>\n",
       "        <tr>\n",
       "            <th>loanCard</th>\n",
       "            <th>itemID</th>\n",
       "            <th>loanDateTime</th>\n",
       "            <th>dueDate</th>\n",
       "            <th>returnDate</th>\n",
       "            <th>renewalCount</th>\n",
       "        </tr>\n",
       "    </thead>\n",
       "    <tbody>\n",
       "        <tr>\n",
       "            <td>201</td>\n",
       "            <td>1</td>\n",
       "            <td>2023-03-10 10:00:00</td>\n",
       "            <td>2023-04-10</td>\n",
       "            <td>2023-04-08</td>\n",
       "            <td>1</td>\n",
       "        </tr>\n",
       "        <tr>\n",
       "            <td>202</td>\n",
       "            <td>2</td>\n",
       "            <td>2023-02-15 14:00:00</td>\n",
       "            <td>2023-03-15</td>\n",
       "            <td>2023-03-14</td>\n",
       "            <td>0</td>\n",
       "        </tr>\n",
       "        <tr>\n",
       "            <td>203</td>\n",
       "            <td>3</td>\n",
       "            <td>2023-03-01 09:30:00</td>\n",
       "            <td>2023-04-01</td>\n",
       "            <td>2023-04-05</td>\n",
       "            <td>0</td>\n",
       "        </tr>\n",
       "        <tr>\n",
       "            <td>204</td>\n",
       "            <td>4</td>\n",
       "            <td>2023-01-20 11:00:00</td>\n",
       "            <td>2023-02-20</td>\n",
       "            <td>2023-02-18</td>\n",
       "            <td>1</td>\n",
       "        </tr>\n",
       "        <tr>\n",
       "            <td>105</td>\n",
       "            <td>5</td>\n",
       "            <td>2023-03-12 16:00:00</td>\n",
       "            <td>2023-04-12</td>\n",
       "            <td>None</td>\n",
       "            <td>0</td>\n",
       "        </tr>\n",
       "        <tr>\n",
       "            <td>206</td>\n",
       "            <td>6</td>\n",
       "            <td>2023-03-05 12:30:00</td>\n",
       "            <td>2023-04-05</td>\n",
       "            <td>2023-04-03</td>\n",
       "            <td>1</td>\n",
       "        </tr>\n",
       "        <tr>\n",
       "            <td>107</td>\n",
       "            <td>7</td>\n",
       "            <td>2023-02-28 08:00:00</td>\n",
       "            <td>2023-03-28</td>\n",
       "            <td>2023-03-25</td>\n",
       "            <td>0</td>\n",
       "        </tr>\n",
       "        <tr>\n",
       "            <td>108</td>\n",
       "            <td>8</td>\n",
       "            <td>2023-03-08 15:45:00</td>\n",
       "            <td>2023-04-08</td>\n",
       "            <td>None</td>\n",
       "            <td>0</td>\n",
       "        </tr>\n",
       "        <tr>\n",
       "            <td>209</td>\n",
       "            <td>9</td>\n",
       "            <td>2023-03-20 13:00:00</td>\n",
       "            <td>2023-04-20</td>\n",
       "            <td>None</td>\n",
       "            <td>0</td>\n",
       "        </tr>\n",
       "        <tr>\n",
       "            <td>110</td>\n",
       "            <td>10</td>\n",
       "            <td>2023-02-22 17:00:00</td>\n",
       "            <td>2023-03-22</td>\n",
       "            <td>2023-03-19</td>\n",
       "            <td>2</td>\n",
       "        </tr>\n",
       "    </tbody>\n",
       "</table>\n",
       "<span style=\"font-style:italic;text-align:center;\">Truncated to <a href=\"https://jupysql.ploomber.io/en/latest/api/configuration.html#displaylimit\">displaylimit</a> of 10.</span>"
      ],
      "text/plain": [
       "+----------+--------+---------------------+------------+------------+--------------+\n",
       "| loanCard | itemID |     loanDateTime    |  dueDate   | returnDate | renewalCount |\n",
       "+----------+--------+---------------------+------------+------------+--------------+\n",
       "|   201    |   1    | 2023-03-10 10:00:00 | 2023-04-10 | 2023-04-08 |      1       |\n",
       "|   202    |   2    | 2023-02-15 14:00:00 | 2023-03-15 | 2023-03-14 |      0       |\n",
       "|   203    |   3    | 2023-03-01 09:30:00 | 2023-04-01 | 2023-04-05 |      0       |\n",
       "|   204    |   4    | 2023-01-20 11:00:00 | 2023-02-20 | 2023-02-18 |      1       |\n",
       "|   105    |   5    | 2023-03-12 16:00:00 | 2023-04-12 |    None    |      0       |\n",
       "|   206    |   6    | 2023-03-05 12:30:00 | 2023-04-05 | 2023-04-03 |      1       |\n",
       "|   107    |   7    | 2023-02-28 08:00:00 | 2023-03-28 | 2023-03-25 |      0       |\n",
       "|   108    |   8    | 2023-03-08 15:45:00 | 2023-04-08 |    None    |      0       |\n",
       "|   209    |   9    | 2023-03-20 13:00:00 | 2023-04-20 |    None    |      0       |\n",
       "|   110    |   10   | 2023-02-22 17:00:00 | 2023-03-22 | 2023-03-19 |      2       |\n",
       "+----------+--------+---------------------+------------+------------+--------------+\n",
       "Truncated to displaylimit of 10."
      ]
     },
     "execution_count": 7,
     "metadata": {},
     "output_type": "execute_result"
    }
   ],
   "source": [
    "%%sql\n",
    "INSERT INTO Loan (loanCard, itemID, loanDateTime, dueDate, returnDate, renewalCount) VALUES\n",
    "(201, 1, '2023-03-10 10:00:00', '2023-04-10', '2023-04-08', 1),\n",
    "(202, 2, '2023-02-15 14:00:00', '2023-03-15', '2023-03-14', 0),\n",
    "(203, 3, '2023-03-01 09:30:00', '2023-04-01', '2023-04-05', 0),\n",
    "(204, 4, '2023-01-20 11:00:00', '2023-02-20', '2023-02-18', 1),\n",
    "(105, 5, '2023-03-12 16:00:00', '2023-04-12', NULL, 0),\n",
    "(206, 6, '2023-03-05 12:30:00', '2023-04-05', '2023-04-03', 1),\n",
    "(107, 7, '2023-02-28 08:00:00', '2023-03-28', '2023-03-25', 0),\n",
    "(108, 8, '2023-03-08 15:45:00', '2023-04-08', NULL, 0),\n",
    "(209, 9, '2023-03-20 13:00:00', '2023-04-20', NULL, 0),\n",
    "(110, 10, '2023-02-22 17:00:00', '2023-03-22', '2023-03-19', 2);\n",
    "SELECT * FROM Loan"
   ]
  },
  {
   "cell_type": "code",
   "execution_count": 8,
   "id": "a125d91d-f2b8-4ee9-8d6b-e554d7a45f60",
   "metadata": {},
   "outputs": [
    {
     "data": {
      "text/html": [
       "<span style=\"None\">Running query in &#x27;sqlite:///library2.db&#x27;</span>"
      ],
      "text/plain": [
       "Running query in 'sqlite:///library2.db'"
      ]
     },
     "metadata": {},
     "output_type": "display_data"
    },
    {
     "data": {
      "text/html": [
       "<span style=\"color: green\">10 rows affected.</span>"
      ],
      "text/plain": [
       "10 rows affected."
      ]
     },
     "metadata": {},
     "output_type": "display_data"
    },
    {
     "data": {
      "text/html": [
       "<table>\n",
       "    <thead>\n",
       "        <tr>\n",
       "            <th>fineLibraryCard</th>\n",
       "            <th>dateTimeIssued</th>\n",
       "            <th>amount</th>\n",
       "            <th>paid</th>\n",
       "        </tr>\n",
       "    </thead>\n",
       "    <tbody>\n",
       "        <tr>\n",
       "            <td>201</td>\n",
       "            <td>2023-03-12 14:30:00</td>\n",
       "            <td>5</td>\n",
       "            <td>0</td>\n",
       "        </tr>\n",
       "        <tr>\n",
       "            <td>202</td>\n",
       "            <td>2023-03-01 10:00:00</td>\n",
       "            <td>2.5</td>\n",
       "            <td>1</td>\n",
       "        </tr>\n",
       "        <tr>\n",
       "            <td>203</td>\n",
       "            <td>2023-02-28 16:00:00</td>\n",
       "            <td>10</td>\n",
       "            <td>0</td>\n",
       "        </tr>\n",
       "        <tr>\n",
       "            <td>204</td>\n",
       "            <td>2023-03-03 09:15:00</td>\n",
       "            <td>7</td>\n",
       "            <td>1</td>\n",
       "        </tr>\n",
       "        <tr>\n",
       "            <td>105</td>\n",
       "            <td>2023-03-04 18:30:00</td>\n",
       "            <td>15</td>\n",
       "            <td>0</td>\n",
       "        </tr>\n",
       "        <tr>\n",
       "            <td>206</td>\n",
       "            <td>2023-03-06 12:00:00</td>\n",
       "            <td>8</td>\n",
       "            <td>1</td>\n",
       "        </tr>\n",
       "        <tr>\n",
       "            <td>107</td>\n",
       "            <td>2023-03-07 11:30:00</td>\n",
       "            <td>3</td>\n",
       "            <td>0</td>\n",
       "        </tr>\n",
       "        <tr>\n",
       "            <td>108</td>\n",
       "            <td>2023-03-02 10:15:00</td>\n",
       "            <td>6.5</td>\n",
       "            <td>0</td>\n",
       "        </tr>\n",
       "        <tr>\n",
       "            <td>209</td>\n",
       "            <td>2023-03-08 14:45:00</td>\n",
       "            <td>4</td>\n",
       "            <td>0</td>\n",
       "        </tr>\n",
       "        <tr>\n",
       "            <td>110</td>\n",
       "            <td>2023-03-09 13:00:00</td>\n",
       "            <td>12</td>\n",
       "            <td>1</td>\n",
       "        </tr>\n",
       "    </tbody>\n",
       "</table>\n",
       "<span style=\"font-style:italic;text-align:center;\">Truncated to <a href=\"https://jupysql.ploomber.io/en/latest/api/configuration.html#displaylimit\">displaylimit</a> of 10.</span>"
      ],
      "text/plain": [
       "+-----------------+---------------------+--------+------+\n",
       "| fineLibraryCard |    dateTimeIssued   | amount | paid |\n",
       "+-----------------+---------------------+--------+------+\n",
       "|       201       | 2023-03-12 14:30:00 |   5    |  0   |\n",
       "|       202       | 2023-03-01 10:00:00 |  2.5   |  1   |\n",
       "|       203       | 2023-02-28 16:00:00 |   10   |  0   |\n",
       "|       204       | 2023-03-03 09:15:00 |   7    |  1   |\n",
       "|       105       | 2023-03-04 18:30:00 |   15   |  0   |\n",
       "|       206       | 2023-03-06 12:00:00 |   8    |  1   |\n",
       "|       107       | 2023-03-07 11:30:00 |   3    |  0   |\n",
       "|       108       | 2023-03-02 10:15:00 |  6.5   |  0   |\n",
       "|       209       | 2023-03-08 14:45:00 |   4    |  0   |\n",
       "|       110       | 2023-03-09 13:00:00 |   12   |  1   |\n",
       "+-----------------+---------------------+--------+------+\n",
       "Truncated to displaylimit of 10."
      ]
     },
     "execution_count": 8,
     "metadata": {},
     "output_type": "execute_result"
    }
   ],
   "source": [
    "%%sql\n",
    "INSERT INTO Fine (fineLibraryCard, dateTimeIssued, amount, paid) VALUES\n",
    "(201, '2023-03-12 14:30:00', 5.00, 0),\n",
    "(202, '2023-03-01 10:00:00', 2.50, 1),\n",
    "(203, '2023-02-28 16:00:00', 10.00, 0),\n",
    "(204, '2023-03-03 09:15:00', 7.00, 1),\n",
    "(105, '2023-03-04 18:30:00', 15.00, 0),\n",
    "(206, '2023-03-06 12:00:00', 8.00, 1),\n",
    "(107, '2023-03-07 11:30:00', 3.00, 0),\n",
    "(108, '2023-03-02 10:15:00', 6.50, 0),\n",
    "(209, '2023-03-08 14:45:00', 4.00, 0),\n",
    "(110, '2023-03-09 13:00:00', 12.00, 1);\n",
    "SELECT * FROM Fine"
   ]
  },
  {
   "cell_type": "code",
   "execution_count": 9,
   "id": "282c72e6-d395-437b-a2b6-7b062a4971ec",
   "metadata": {},
   "outputs": [
    {
     "data": {
      "text/html": [
       "<span style=\"None\">Running query in &#x27;sqlite:///library2.db&#x27;</span>"
      ],
      "text/plain": [
       "Running query in 'sqlite:///library2.db'"
      ]
     },
     "metadata": {},
     "output_type": "display_data"
    },
    {
     "data": {
      "text/html": [
       "<span style=\"color: green\">10 rows affected.</span>"
      ],
      "text/plain": [
       "10 rows affected."
      ]
     },
     "metadata": {},
     "output_type": "display_data"
    },
    {
     "data": {
      "text/html": [
       "<table>\n",
       "    <thead>\n",
       "        <tr>\n",
       "            <th>RoomNumber</th>\n",
       "            <th>capacity</th>\n",
       "        </tr>\n",
       "    </thead>\n",
       "    <tbody>\n",
       "        <tr>\n",
       "            <td>101</td>\n",
       "            <td>50</td>\n",
       "        </tr>\n",
       "        <tr>\n",
       "            <td>102</td>\n",
       "            <td>100</td>\n",
       "        </tr>\n",
       "        <tr>\n",
       "            <td>103</td>\n",
       "            <td>25</td>\n",
       "        </tr>\n",
       "        <tr>\n",
       "            <td>104</td>\n",
       "            <td>75</td>\n",
       "        </tr>\n",
       "        <tr>\n",
       "            <td>105</td>\n",
       "            <td>150</td>\n",
       "        </tr>\n",
       "        <tr>\n",
       "            <td>106</td>\n",
       "            <td>200</td>\n",
       "        </tr>\n",
       "        <tr>\n",
       "            <td>107</td>\n",
       "            <td>20</td>\n",
       "        </tr>\n",
       "        <tr>\n",
       "            <td>108</td>\n",
       "            <td>30</td>\n",
       "        </tr>\n",
       "        <tr>\n",
       "            <td>109</td>\n",
       "            <td>120</td>\n",
       "        </tr>\n",
       "        <tr>\n",
       "            <td>110</td>\n",
       "            <td>60</td>\n",
       "        </tr>\n",
       "    </tbody>\n",
       "</table>\n",
       "<span style=\"font-style:italic;text-align:center;\">Truncated to <a href=\"https://jupysql.ploomber.io/en/latest/api/configuration.html#displaylimit\">displaylimit</a> of 10.</span>"
      ],
      "text/plain": [
       "+------------+----------+\n",
       "| RoomNumber | capacity |\n",
       "+------------+----------+\n",
       "|    101     |    50    |\n",
       "|    102     |   100    |\n",
       "|    103     |    25    |\n",
       "|    104     |    75    |\n",
       "|    105     |   150    |\n",
       "|    106     |   200    |\n",
       "|    107     |    20    |\n",
       "|    108     |    30    |\n",
       "|    109     |   120    |\n",
       "|    110     |    60    |\n",
       "+------------+----------+\n",
       "Truncated to displaylimit of 10."
      ]
     },
     "execution_count": 9,
     "metadata": {},
     "output_type": "execute_result"
    }
   ],
   "source": [
    "%%sql\n",
    "INSERT INTO LibraryRoom (RoomNumber, capacity) VALUES\n",
    "(101, 50),\n",
    "(102, 100),\n",
    "(103, 25),\n",
    "(104, 75),\n",
    "(105, 150),\n",
    "(106, 200),\n",
    "(107, 20),\n",
    "(108, 30),\n",
    "(109, 120),\n",
    "(110, 60);\n",
    "SELECT * FROM LibraryRoom"
   ]
  },
  {
   "cell_type": "code",
   "execution_count": 10,
   "id": "862e206a-e043-4098-8f7b-e05e609b2796",
   "metadata": {},
   "outputs": [
    {
     "data": {
      "text/html": [
       "<span style=\"None\">Running query in &#x27;sqlite:///library2.db&#x27;</span>"
      ],
      "text/plain": [
       "Running query in 'sqlite:///library2.db'"
      ]
     },
     "metadata": {},
     "output_type": "display_data"
    },
    {
     "data": {
      "text/html": [
       "<span style=\"color: green\">10 rows affected.</span>"
      ],
      "text/plain": [
       "10 rows affected."
      ]
     },
     "metadata": {},
     "output_type": "display_data"
    },
    {
     "data": {
      "text/html": [
       "<table>\n",
       "    <thead>\n",
       "        <tr>\n",
       "            <th>title</th>\n",
       "            <th>dateTime</th>\n",
       "            <th>roomNum</th>\n",
       "            <th>numAttendees</th>\n",
       "            <th>maxAttendees</th>\n",
       "            <th>duration</th>\n",
       "            <th>registrationEnd</th>\n",
       "            <th>description</th>\n",
       "        </tr>\n",
       "    </thead>\n",
       "    <tbody>\n",
       "        <tr>\n",
       "            <td>Book Launch: Java Programming</td>\n",
       "            <td>2023-04-01 10:00:00</td>\n",
       "            <td>101</td>\n",
       "            <td>1</td>\n",
       "            <td>50</td>\n",
       "            <td>120</td>\n",
       "            <td>2023-03-31 23:59:59</td>\n",
       "            <td>A book launch event for \"Advanced Java Concepts\"</td>\n",
       "        </tr>\n",
       "        <tr>\n",
       "            <td>Machine Learning Workshop</td>\n",
       "            <td>2023-04-05 13:00:00</td>\n",
       "            <td>102</td>\n",
       "            <td>1</td>\n",
       "            <td>100</td>\n",
       "            <td>180</td>\n",
       "            <td>2023-04-04 23:59:59</td>\n",
       "            <td>A workshop on machine learning algorithms</td>\n",
       "        </tr>\n",
       "        <tr>\n",
       "            <td>React for Beginners</td>\n",
       "            <td>2023-04-10 09:00:00</td>\n",
       "            <td>103</td>\n",
       "            <td>1</td>\n",
       "            <td>5</td>\n",
       "            <td>90</td>\n",
       "            <td>2023-04-09 23:59:59</td>\n",
       "            <td>Introduction to React for new developers</td>\n",
       "        </tr>\n",
       "        <tr>\n",
       "            <td>Web Development Conference</td>\n",
       "            <td>2023-04-15 11:00:00</td>\n",
       "            <td>104</td>\n",
       "            <td>1</td>\n",
       "            <td>75</td>\n",
       "            <td>240</td>\n",
       "            <td>2023-04-14 23:59:59</td>\n",
       "            <td>A conference discussing modern web development</td>\n",
       "        </tr>\n",
       "        <tr>\n",
       "            <td>Python Programming Bootcamp</td>\n",
       "            <td>2023-04-20 14:00:00</td>\n",
       "            <td>105</td>\n",
       "            <td>1</td>\n",
       "            <td>50</td>\n",
       "            <td>120</td>\n",
       "            <td>2023-04-19 23:59:59</td>\n",
       "            <td>Bootcamp for Python programming enthusiasts</td>\n",
       "        </tr>\n",
       "        <tr>\n",
       "            <td>Data Science Meetup</td>\n",
       "            <td>2023-04-25 16:00:00</td>\n",
       "            <td>106</td>\n",
       "            <td>1</td>\n",
       "            <td>30</td>\n",
       "            <td>180</td>\n",
       "            <td>2023-04-24 23:59:59</td>\n",
       "            <td>A meetup for data science professionals</td>\n",
       "        </tr>\n",
       "        <tr>\n",
       "            <td>Digital Transformation Seminar</td>\n",
       "            <td>2023-05-01 10:00:00</td>\n",
       "            <td>107</td>\n",
       "            <td>1</td>\n",
       "            <td>60</td>\n",
       "            <td>150</td>\n",
       "            <td>2023-04-30 23:59:59</td>\n",
       "            <td>A seminar on digital transformation strategies</td>\n",
       "        </tr>\n",
       "        <tr>\n",
       "            <td>Library Tech Talk</td>\n",
       "            <td>2023-05-10 09:30:00</td>\n",
       "            <td>108</td>\n",
       "            <td>1</td>\n",
       "            <td>30</td>\n",
       "            <td>60</td>\n",
       "            <td>2023-05-09 23:59:59</td>\n",
       "            <td>Tech talk on innovations in library technology</td>\n",
       "        </tr>\n",
       "        <tr>\n",
       "            <td>Cloud Computing Workshop</td>\n",
       "            <td>2023-05-15 13:00:00</td>\n",
       "            <td>109</td>\n",
       "            <td>1</td>\n",
       "            <td>120</td>\n",
       "            <td>180</td>\n",
       "            <td>2023-05-14 23:59:59</td>\n",
       "            <td>A workshop on cloud computing infrastructure</td>\n",
       "        </tr>\n",
       "        <tr>\n",
       "            <td>AI for Beginners</td>\n",
       "            <td>2023-05-20 14:00:00</td>\n",
       "            <td>110</td>\n",
       "            <td>1</td>\n",
       "            <td>50</td>\n",
       "            <td>120</td>\n",
       "            <td>2023-05-19 23:59:59</td>\n",
       "            <td>Introduction to Artificial Intelligence concepts</td>\n",
       "        </tr>\n",
       "    </tbody>\n",
       "</table>\n",
       "<span style=\"font-style:italic;text-align:center;\">Truncated to <a href=\"https://jupysql.ploomber.io/en/latest/api/configuration.html#displaylimit\">displaylimit</a> of 10.</span>"
      ],
      "text/plain": [
       "+--------------------------------+---------------------+---------+--------------+--------------+----------+---------------------+--------------------------------------------------+\n",
       "|             title              |       dateTime      | roomNum | numAttendees | maxAttendees | duration |   registrationEnd   |                   description                    |\n",
       "+--------------------------------+---------------------+---------+--------------+--------------+----------+---------------------+--------------------------------------------------+\n",
       "| Book Launch: Java Programming  | 2023-04-01 10:00:00 |   101   |      1       |      50      |   120    | 2023-03-31 23:59:59 | A book launch event for \"Advanced Java Concepts\" |\n",
       "|   Machine Learning Workshop    | 2023-04-05 13:00:00 |   102   |      1       |     100      |   180    | 2023-04-04 23:59:59 |    A workshop on machine learning algorithms     |\n",
       "|      React for Beginners       | 2023-04-10 09:00:00 |   103   |      1       |      5       |    90    | 2023-04-09 23:59:59 |     Introduction to React for new developers     |\n",
       "|   Web Development Conference   | 2023-04-15 11:00:00 |   104   |      1       |      75      |   240    | 2023-04-14 23:59:59 |  A conference discussing modern web development  |\n",
       "|  Python Programming Bootcamp   | 2023-04-20 14:00:00 |   105   |      1       |      50      |   120    | 2023-04-19 23:59:59 |   Bootcamp for Python programming enthusiasts    |\n",
       "|      Data Science Meetup       | 2023-04-25 16:00:00 |   106   |      1       |      30      |   180    | 2023-04-24 23:59:59 |     A meetup for data science professionals      |\n",
       "| Digital Transformation Seminar | 2023-05-01 10:00:00 |   107   |      1       |      60      |   150    | 2023-04-30 23:59:59 |  A seminar on digital transformation strategies  |\n",
       "|       Library Tech Talk        | 2023-05-10 09:30:00 |   108   |      1       |      30      |    60    | 2023-05-09 23:59:59 |  Tech talk on innovations in library technology  |\n",
       "|    Cloud Computing Workshop    | 2023-05-15 13:00:00 |   109   |      1       |     120      |   180    | 2023-05-14 23:59:59 |   A workshop on cloud computing infrastructure   |\n",
       "|        AI for Beginners        | 2023-05-20 14:00:00 |   110   |      1       |      50      |   120    | 2023-05-19 23:59:59 | Introduction to Artificial Intelligence concepts |\n",
       "+--------------------------------+---------------------+---------+--------------+--------------+----------+---------------------+--------------------------------------------------+\n",
       "Truncated to displaylimit of 10."
      ]
     },
     "execution_count": 10,
     "metadata": {},
     "output_type": "execute_result"
    }
   ],
   "source": [
    "%%sql\n",
    "INSERT INTO Event (title, dateTime, roomNum, numAttendees, maxAttendees, duration, registrationEnd, description) VALUES\n",
    "('Book Launch: Java Programming', '2023-04-01 10:00:00', 101, 1, 50, 120, '2023-03-31 23:59:59', 'A book launch event for \"Advanced Java Concepts\"'),\n",
    "('Machine Learning Workshop', '2023-04-05 13:00:00', 102, 1, 100, 180, '2023-04-04 23:59:59', 'A workshop on machine learning algorithms'),\n",
    "('React for Beginners', '2023-04-10 09:00:00', 103, 1, 5, 90, '2023-04-09 23:59:59', 'Introduction to React for new developers'),\n",
    "('Web Development Conference', '2023-04-15 11:00:00', 104, 1, 75, 240, '2023-04-14 23:59:59', 'A conference discussing modern web development'),\n",
    "('Python Programming Bootcamp', '2023-04-20 14:00:00', 105, 1, 50, 120, '2023-04-19 23:59:59', 'Bootcamp for Python programming enthusiasts'),\n",
    "('Data Science Meetup', '2023-04-25 16:00:00', 106, 1, 30, 180, '2023-04-24 23:59:59', 'A meetup for data science professionals'),\n",
    "('Digital Transformation Seminar', '2023-05-01 10:00:00', 107, 1, 60, 150, '2023-04-30 23:59:59', 'A seminar on digital transformation strategies'),\n",
    "('Library Tech Talk', '2023-05-10 09:30:00', 108, 1, 30, 60, '2023-05-09 23:59:59', 'Tech talk on innovations in library technology'),\n",
    "('Cloud Computing Workshop', '2023-05-15 13:00:00', 109, 1, 120, 180, '2023-05-14 23:59:59', 'A workshop on cloud computing infrastructure'),\n",
    "('AI for Beginners', '2023-05-20 14:00:00', 110, 1, 50, 120, '2023-05-19 23:59:59', 'Introduction to Artificial Intelligence concepts');\n",
    "SELECT * FROM Event"
   ]
  },
  {
   "cell_type": "code",
   "execution_count": 11,
   "id": "85532b1f-4456-4a0a-b2ee-5d565a11cd8e",
   "metadata": {},
   "outputs": [
    {
     "data": {
      "text/html": [
       "<span style=\"None\">Running query in &#x27;sqlite:///library2.db&#x27;</span>"
      ],
      "text/plain": [
       "Running query in 'sqlite:///library2.db'"
      ]
     },
     "metadata": {},
     "output_type": "display_data"
    },
    {
     "data": {
      "text/html": [
       "<span style=\"color: green\">10 rows affected.</span>"
      ],
      "text/plain": [
       "10 rows affected."
      ]
     },
     "metadata": {},
     "output_type": "display_data"
    },
    {
     "data": {
      "text/html": [
       "<table>\n",
       "    <thead>\n",
       "        <tr>\n",
       "            <th>libraryCardNumber</th>\n",
       "            <th>eventTitle</th>\n",
       "            <th>eventDateTime</th>\n",
       "        </tr>\n",
       "    </thead>\n",
       "    <tbody>\n",
       "        <tr>\n",
       "            <td>201</td>\n",
       "            <td>Book Launch: Java Programming</td>\n",
       "            <td>2023-04-01 10:00:00</td>\n",
       "        </tr>\n",
       "        <tr>\n",
       "            <td>202</td>\n",
       "            <td>Machine Learning Workshop</td>\n",
       "            <td>2023-04-05 13:00:00</td>\n",
       "        </tr>\n",
       "        <tr>\n",
       "            <td>203</td>\n",
       "            <td>React for Beginners</td>\n",
       "            <td>2023-04-10 09:00:00</td>\n",
       "        </tr>\n",
       "        <tr>\n",
       "            <td>204</td>\n",
       "            <td>Web Development Conference</td>\n",
       "            <td>2023-04-15 11:00:00</td>\n",
       "        </tr>\n",
       "        <tr>\n",
       "            <td>205</td>\n",
       "            <td>Python Programming Bootcamp</td>\n",
       "            <td>2023-04-20 14:00:00</td>\n",
       "        </tr>\n",
       "        <tr>\n",
       "            <td>206</td>\n",
       "            <td>Data Science Meetup</td>\n",
       "            <td>2023-04-25 16:00:00</td>\n",
       "        </tr>\n",
       "        <tr>\n",
       "            <td>207</td>\n",
       "            <td>Digital Transformation Seminar</td>\n",
       "            <td>2023-05-01 10:00:00</td>\n",
       "        </tr>\n",
       "        <tr>\n",
       "            <td>208</td>\n",
       "            <td>Library Tech Talk</td>\n",
       "            <td>2023-05-10 09:30:00</td>\n",
       "        </tr>\n",
       "        <tr>\n",
       "            <td>209</td>\n",
       "            <td>Cloud Computing Workshop</td>\n",
       "            <td>2023-05-15 13:00:00</td>\n",
       "        </tr>\n",
       "        <tr>\n",
       "            <td>210</td>\n",
       "            <td>AI for Beginners</td>\n",
       "            <td>2023-05-20 14:00:00</td>\n",
       "        </tr>\n",
       "    </tbody>\n",
       "</table>\n",
       "<span style=\"font-style:italic;text-align:center;\">Truncated to <a href=\"https://jupysql.ploomber.io/en/latest/api/configuration.html#displaylimit\">displaylimit</a> of 10.</span>"
      ],
      "text/plain": [
       "+-------------------+--------------------------------+---------------------+\n",
       "| libraryCardNumber |           eventTitle           |    eventDateTime    |\n",
       "+-------------------+--------------------------------+---------------------+\n",
       "|        201        | Book Launch: Java Programming  | 2023-04-01 10:00:00 |\n",
       "|        202        |   Machine Learning Workshop    | 2023-04-05 13:00:00 |\n",
       "|        203        |      React for Beginners       | 2023-04-10 09:00:00 |\n",
       "|        204        |   Web Development Conference   | 2023-04-15 11:00:00 |\n",
       "|        205        |  Python Programming Bootcamp   | 2023-04-20 14:00:00 |\n",
       "|        206        |      Data Science Meetup       | 2023-04-25 16:00:00 |\n",
       "|        207        | Digital Transformation Seminar | 2023-05-01 10:00:00 |\n",
       "|        208        |       Library Tech Talk        | 2023-05-10 09:30:00 |\n",
       "|        209        |    Cloud Computing Workshop    | 2023-05-15 13:00:00 |\n",
       "|        210        |        AI for Beginners        | 2023-05-20 14:00:00 |\n",
       "+-------------------+--------------------------------+---------------------+\n",
       "Truncated to displaylimit of 10."
      ]
     },
     "execution_count": 11,
     "metadata": {},
     "output_type": "execute_result"
    }
   ],
   "source": [
    "%%sql\n",
    "INSERT INTO EventAttendees (libraryCardNumber, eventTitle, eventDateTime) VALUES\n",
    "(201, 'Book Launch: Java Programming', '2023-04-01 10:00:00'),\n",
    "(202, 'Machine Learning Workshop', '2023-04-05 13:00:00'),\n",
    "(203, 'React for Beginners', '2023-04-10 09:00:00'),\n",
    "(204, 'Web Development Conference', '2023-04-15 11:00:00'),\n",
    "(205, 'Python Programming Bootcamp', '2023-04-20 14:00:00'),\n",
    "(206, 'Data Science Meetup', '2023-04-25 16:00:00'),\n",
    "(207, 'Digital Transformation Seminar', '2023-05-01 10:00:00'),\n",
    "(208, 'Library Tech Talk', '2023-05-10 09:30:00'),\n",
    "(209, 'Cloud Computing Workshop', '2023-05-15 13:00:00'),\n",
    "(210, 'AI for Beginners', '2023-05-20 14:00:00');\n",
    "SELECT * FROM EventAttendees"
   ]
  },
  {
   "cell_type": "code",
   "execution_count": 12,
   "id": "59eaf080-e9de-4055-b4e9-1f79957e7981",
   "metadata": {},
   "outputs": [
    {
     "data": {
      "text/html": [
       "<span style=\"None\">Running query in &#x27;sqlite:///library2.db&#x27;</span>"
      ],
      "text/plain": [
       "Running query in 'sqlite:///library2.db'"
      ]
     },
     "metadata": {},
     "output_type": "display_data"
    },
    {
     "name": "stderr",
     "output_type": "stream",
     "text": [
      "RuntimeError: (sqlite3.OperationalError) database table is locked\n",
      "[SQL: DROP TABLE IF EXISTS LibraryItem;]\n",
      "(Background on this error at: https://sqlalche.me/e/20/e3q8)\n",
      "If you need help solving this issue, send us a message: https://ploomber.io/community\n"
     ]
    }
   ],
   "source": [
    "%%sql\n",
    "\n",
    "DROP TABLE IF EXISTS LibraryItem;\n",
    "DROP TABLE IF EXISTS LibraryRoom;\n",
    "DROP TABLE IF EXISTS LibraryStaff;\n",
    "DROP TABLE IF EXISTS Fine;\n",
    "DROP TABLE IF EXISTS Loan;\n",
    "DROP TABLE IF EXISTS Author;\n",
    "DROP TABLE IF EXISTS User;\n",
    "DROP TABLE Event;\n",
    "DROP TABLE IF EXISTS EventAttendees;\n",
    "\n"
   ]
  },
  {
   "cell_type": "code",
   "execution_count": null,
   "id": "6a642480-e443-4eb4-9f6c-0a9db041079a",
   "metadata": {},
   "outputs": [],
   "source": []
  },
  {
   "cell_type": "code",
   "execution_count": null,
   "id": "f6c9f33f-76dd-41a5-be17-7dc3fe407f85",
   "metadata": {},
   "outputs": [],
   "source": []
  },
  {
   "cell_type": "code",
   "execution_count": null,
   "id": "1b212e17-7c0f-4368-8199-386c39d1dfe6",
   "metadata": {},
   "outputs": [],
   "source": []
  },
  {
   "cell_type": "code",
   "execution_count": null,
   "id": "b1b5038e-82cf-4492-991f-ab32e40a5c08",
   "metadata": {},
   "outputs": [],
   "source": []
  },
  {
   "cell_type": "code",
   "execution_count": null,
   "id": "895de067-87a2-436a-8b54-11f989828afa",
   "metadata": {},
   "outputs": [],
   "source": []
  },
  {
   "cell_type": "code",
   "execution_count": null,
   "id": "4d874767-657a-4551-8f1a-9a9c6be4c3db",
   "metadata": {},
   "outputs": [],
   "source": []
  }
 ],
 "metadata": {
  "kernelspec": {
   "display_name": "Python 3 (ipykernel)",
   "language": "python",
   "name": "python3"
  },
  "language_info": {
   "codemirror_mode": {
    "name": "ipython",
    "version": 3
   },
   "file_extension": ".py",
   "mimetype": "text/x-python",
   "name": "python",
   "nbconvert_exporter": "python",
   "pygments_lexer": "ipython3",
   "version": "3.12.2"
  }
 },
 "nbformat": 4,
 "nbformat_minor": 5
}
